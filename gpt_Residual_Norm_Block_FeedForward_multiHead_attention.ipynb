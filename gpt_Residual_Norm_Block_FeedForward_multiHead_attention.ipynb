{
  "nbformat": 4,
  "nbformat_minor": 0,
  "metadata": {
    "colab": {
      "provenance": [],
      "gpuType": "T4",
      "authorship_tag": "ABX9TyPdWWcfkImLWtU4WRhcJ1HT",
      "include_colab_link": true
    },
    "kernelspec": {
      "name": "python3",
      "display_name": "Python 3"
    },
    "language_info": {
      "name": "python"
    },
    "accelerator": "GPU"
  },
  "cells": [
    {
      "cell_type": "markdown",
      "metadata": {
        "id": "view-in-github",
        "colab_type": "text"
      },
      "source": [
        "<a href=\"https://colab.research.google.com/github/adarsh415/gpt-pytorch/blob/main/gpt_Residual_Norm_Block_FeedForward_multiHead_attention.ipynb\" target=\"_parent\"><img src=\"https://colab.research.google.com/assets/colab-badge.svg\" alt=\"Open In Colab\"/></a>"
      ]
    },
    {
      "cell_type": "code",
      "execution_count": 1,
      "metadata": {
        "colab": {
          "base_uri": "https://localhost:8080/"
        },
        "id": "_3feIKpsj4zP",
        "outputId": "963ea447-659e-4c76-8ffc-3a5e35dacd1a"
      },
      "outputs": [
        {
          "output_type": "stream",
          "name": "stdout",
          "text": [
            "--2023-07-23 03:49:53--  https://raw.githubusercontent.com/karpathy/char-rnn/master/data/tinyshakespeare/input.txt\n",
            "Resolving raw.githubusercontent.com (raw.githubusercontent.com)... 185.199.108.133, 185.199.109.133, 185.199.110.133, ...\n",
            "Connecting to raw.githubusercontent.com (raw.githubusercontent.com)|185.199.108.133|:443... connected.\n",
            "HTTP request sent, awaiting response... 200 OK\n",
            "Length: 1115394 (1.1M) [text/plain]\n",
            "Saving to: ‘input.txt’\n",
            "\n",
            "\rinput.txt             0%[                    ]       0  --.-KB/s               \rinput.txt           100%[===================>]   1.06M  --.-KB/s    in 0.05s   \n",
            "\n",
            "2023-07-23 03:49:53 (20.5 MB/s) - ‘input.txt’ saved [1115394/1115394]\n",
            "\n"
          ]
        }
      ],
      "source": [
        "!wget https://raw.githubusercontent.com/karpathy/char-rnn/master/data/tinyshakespeare/input.txt"
      ]
    },
    {
      "cell_type": "code",
      "source": [
        "# read it to inspect it\n",
        "with open('input.txt', 'r', encoding='utf-8') as f:\n",
        "  text = f.read()"
      ],
      "metadata": {
        "id": "hrOTjzPlkQZC"
      },
      "execution_count": 2,
      "outputs": []
    },
    {
      "cell_type": "code",
      "source": [
        "print(\"length of dataset in characters: \", len(text))"
      ],
      "metadata": {
        "colab": {
          "base_uri": "https://localhost:8080/"
        },
        "id": "JVgczUeMkjZQ",
        "outputId": "3dc379e4-126d-4b65-bc6d-fce1a56a9366"
      },
      "execution_count": 3,
      "outputs": [
        {
          "output_type": "stream",
          "name": "stdout",
          "text": [
            "length of dataset in characters:  1115394\n"
          ]
        }
      ]
    },
    {
      "cell_type": "code",
      "source": [
        "#let's look at the first 1000 characters\n",
        "print(text[:1000])"
      ],
      "metadata": {
        "colab": {
          "base_uri": "https://localhost:8080/"
        },
        "id": "0AeiyqN3kxfi",
        "outputId": "962f63a2-0691-4b59-c76a-05e8a39dc061"
      },
      "execution_count": 4,
      "outputs": [
        {
          "output_type": "stream",
          "name": "stdout",
          "text": [
            "First Citizen:\n",
            "Before we proceed any further, hear me speak.\n",
            "\n",
            "All:\n",
            "Speak, speak.\n",
            "\n",
            "First Citizen:\n",
            "You are all resolved rather to die than to famish?\n",
            "\n",
            "All:\n",
            "Resolved. resolved.\n",
            "\n",
            "First Citizen:\n",
            "First, you know Caius Marcius is chief enemy to the people.\n",
            "\n",
            "All:\n",
            "We know't, we know't.\n",
            "\n",
            "First Citizen:\n",
            "Let us kill him, and we'll have corn at our own price.\n",
            "Is't a verdict?\n",
            "\n",
            "All:\n",
            "No more talking on't; let it be done: away, away!\n",
            "\n",
            "Second Citizen:\n",
            "One word, good citizens.\n",
            "\n",
            "First Citizen:\n",
            "We are accounted poor citizens, the patricians good.\n",
            "What authority surfeits on would relieve us: if they\n",
            "would yield us but the superfluity, while it were\n",
            "wholesome, we might guess they relieved us humanely;\n",
            "but they think we are too dear: the leanness that\n",
            "afflicts us, the object of our misery, is as an\n",
            "inventory to particularise their abundance; our\n",
            "sufferance is a gain to them Let us revenge this with\n",
            "our pikes, ere we become rakes: for the gods know I\n",
            "speak this in hunger for bread, not in thirst for revenge.\n",
            "\n",
            "\n"
          ]
        }
      ]
    },
    {
      "cell_type": "code",
      "source": [
        "# here are all unique characters that occurs in text\n",
        "chars = sorted(list(set(text)))\n",
        "vocab_size = len(chars)\n",
        "print(''.join(chars))\n",
        "print(vocab_size)"
      ],
      "metadata": {
        "colab": {
          "base_uri": "https://localhost:8080/"
        },
        "id": "iNUqoBV_k5P8",
        "outputId": "78d4dfdc-5e05-4b5e-fb45-3dbc70e150c8"
      },
      "execution_count": 5,
      "outputs": [
        {
          "output_type": "stream",
          "name": "stdout",
          "text": [
            "\n",
            " !$&',-.3:;?ABCDEFGHIJKLMNOPQRSTUVWXYZabcdefghijklmnopqrstuvwxyz\n",
            "65\n"
          ]
        }
      ]
    },
    {
      "cell_type": "code",
      "source": [
        "# create mapping from characters to integers\n",
        "stoi = {ch:i for i, ch in enumerate(chars)}\n",
        "itos = {i:ch for i, ch in enumerate(chars)}\n",
        "encode = lambda s: [stoi[c] for c in s] # encoder: takes a string, returns sequence of intgers\n",
        "decode = lambda l: ''.join([itos[i] for i in l]) # decoder: takes list of integers, outputs string\n",
        "\n",
        "print(encode('hii there'))\n",
        "print(decode(encode('hii there')))"
      ],
      "metadata": {
        "colab": {
          "base_uri": "https://localhost:8080/"
        },
        "id": "Qn4iSKzylUWt",
        "outputId": "e73d7fa3-a7e6-49f2-c3d3-0332ca0b12d1"
      },
      "execution_count": 6,
      "outputs": [
        {
          "output_type": "stream",
          "name": "stdout",
          "text": [
            "[46, 47, 47, 1, 58, 46, 43, 56, 43]\n",
            "hii there\n"
          ]
        }
      ]
    },
    {
      "cell_type": "code",
      "source": [
        "import torch\n",
        "from torch import nn\n",
        "import torch.nn.functional as F"
      ],
      "metadata": {
        "id": "Hncx_kFsly_f"
      },
      "execution_count": 7,
      "outputs": []
    },
    {
      "cell_type": "code",
      "source": [
        "batch_size=64 # how many independent sequences will process in parallel\n",
        "block_size=256 # what is the maximum context length of predictions?\n",
        "n_embed = 384\n",
        "n_layer = 6\n",
        "n_head = 6\n",
        "dropout = 0.2\n",
        "lr_rate = 3e-4\n",
        "eval_interval = 500\n",
        "eval_iters = 200\n",
        "max_iters = 5000\n",
        "device = 'cuda' if torch.cuda.is_available() else 'cpu'"
      ],
      "metadata": {
        "id": "wABAcoSvp90f"
      },
      "execution_count": 8,
      "outputs": []
    },
    {
      "cell_type": "code",
      "source": [
        "data = torch.tensor(encode(text), dtype=torch.long, device=device )\n",
        "# print(data.shape, data.dtype)\n",
        "# print(data[:1000])"
      ],
      "metadata": {
        "id": "-V7tdNHflVan"
      },
      "execution_count": 9,
      "outputs": []
    },
    {
      "cell_type": "code",
      "source": [
        "#Let's split dataset into train and validation set\n",
        "n = int(0.9*len(data))\n",
        "train_data = data[:n]\n",
        "val_data = data[n:]"
      ],
      "metadata": {
        "id": "GYih96aap3KU"
      },
      "execution_count": 10,
      "outputs": []
    },
    {
      "cell_type": "code",
      "source": [
        "# train_data[:block_size + 1]"
      ],
      "metadata": {
        "id": "IoZXpoSxqQLd"
      },
      "execution_count": 11,
      "outputs": []
    },
    {
      "cell_type": "code",
      "source": [
        "# x = train_data[:block_size]\n",
        "# y = train_data[1:block_size+1]\n",
        "# for t in range(block_size):\n",
        "#   context = x[:t+1]\n",
        "#   target = y[t]\n",
        "#   print(f\"when context is: {context} target is: {target}\")"
      ],
      "metadata": {
        "id": "LmKrlNZ7qvBc"
      },
      "execution_count": 12,
      "outputs": []
    },
    {
      "cell_type": "code",
      "source": [
        "torch.manual_seed(1023)\n",
        "def get_batch(split):\n",
        "  data = train_data if split=='train' else val_data\n",
        "  ix = torch.randint(len(data) - block_size, (batch_size,))\n",
        "  x = torch.stack([data[i:i+block_size] for i in ix])\n",
        "  y = torch.stack([data[i+1:i+block_size+1] for i in ix])\n",
        "  return x.to(device), y.to(device)\n",
        "\n",
        "# xb, yb = get_batch('train')\n",
        "# print('inputs')\n",
        "# print(xb.shape)\n",
        "# print(xb)\n",
        "# print('target')\n",
        "# print(yb.shape)\n",
        "# print(yb)\n",
        "\n",
        "# print('---------')\n",
        "\n",
        "# for b in range(batch_size): # batch dimension\n",
        "#   for t in range(block_size): # time dimension\n",
        "#     context = xb[b, :t+1]\n",
        "#     target = yb[b, t]\n",
        "#     print(f\"when context is: {context.tolist()} target is: {target}\")\n"
      ],
      "metadata": {
        "id": "WvBQggSPe7Uw"
      },
      "execution_count": 13,
      "outputs": []
    },
    {
      "cell_type": "code",
      "source": [
        "class Head(nn.Module):\n",
        "  def __init__(self, head_size):\n",
        "    super().__init__()\n",
        "    self.key = nn.Linear(n_embed, head_size, bias=False)\n",
        "    self.query = nn.Linear(n_embed, head_size, bias=False)\n",
        "    self.value = nn.Linear(n_embed, head_size, bias=False)\n",
        "    self.register_buffer('tril', torch.tril(torch.ones(block_size, block_size)))\n",
        "\n",
        "    self.dropout = nn.Dropout(dropout)\n",
        "\n",
        "  def forward(self, x):\n",
        "    B, T, C = x.shape\n",
        "    k = self.key(x)\n",
        "    q = self.query(x)\n",
        "    # compute the attention scores ('affinities)\n",
        "    wei = q @ k.transpose(-2,-1) * C**-0.5 # (B, T, C) @ (B, C, T) ---> (B, T, T) , used scaled attention here\n",
        "    wei = wei.masked_fill(self.tril[:T, :T] == 0, float('-inf')) # (B, T, T) , this is part of decoder so does not communicate with past\n",
        "    wei = F.softmax(wei, dim=-1) # (B, T, T)\n",
        "    wei = self.dropout(wei)\n",
        "    # perform the weighted aggregation of values\n",
        "    v = self.value(x) # (B, T, C)\n",
        "    out = wei @ v # (B, T, T) @ (B, T, C) --> (B, T, C)\n",
        "    return out"
      ],
      "metadata": {
        "id": "-cwnxNTblqHO"
      },
      "execution_count": 14,
      "outputs": []
    },
    {
      "cell_type": "code",
      "source": [
        "class MultiHeadAttention(nn.Module):\n",
        "  \"\"\"Multi head attention\"\"\"\n",
        "  def __init__(self, num_heads, head_size):\n",
        "    super().__init__()\n",
        "    self.head = nn.ModuleList([Head(head_size) for _ in range(num_heads)])\n",
        "    self.proj = nn.Linear(head_size*num_heads, n_embed) #project layer\n",
        "\n",
        "    self.dropout = nn.Dropout(dropout)\n",
        "\n",
        "  def forward(self, x):\n",
        "    out = torch.cat([h(x) for h in self.head], dim=-1) # concatenate along the channel dimension, i.e last dimension\n",
        "    out = self.proj(out)\n",
        "    out = self.dropout(out)\n",
        "    return out"
      ],
      "metadata": {
        "id": "w42p4tEEs7zV"
      },
      "execution_count": 37,
      "outputs": []
    },
    {
      "cell_type": "code",
      "source": [
        "class FeedForward(nn.Module):\n",
        "  \"\"\"Simple linear layer followed by non linearilty\"\"\"\n",
        "\n",
        "  def __init__(self, n_embed):\n",
        "    super().__init__()\n",
        "    self.net = nn.Sequential(\n",
        "        nn.Linear(n_embed, 4 * n_embed),\n",
        "        nn.ReLU(),\n",
        "        nn.Linear(4 * n_embed, n_embed),\n",
        "        nn.Dropout(dropout)\n",
        "    )\n",
        "  def forward(self, x):\n",
        "    return self.net(x)"
      ],
      "metadata": {
        "id": "m1JFBjcRxEPA"
      },
      "execution_count": 38,
      "outputs": []
    },
    {
      "cell_type": "code",
      "source": [
        "class Block(nn.Module):\n",
        "  \"\"\" Transformer block: communication followed by computation \"\"\"\n",
        "\n",
        "  def __init__(self, n_embed, n_head):\n",
        "    super().__init__()\n",
        "    # n_embed: embedding dimension, n_head: the number of heads we'd like\n",
        "    head_size = n_embed // n_head\n",
        "    self.sa = MultiHeadAttention(n_head, head_size)\n",
        "    self.ffwd = FeedForward(n_embed)\n",
        "    self.l1 = nn.LayerNorm(n_embed)\n",
        "    self.l2 = nn.LayerNorm(n_embed)\n",
        "\n",
        "  def forward(self, x):\n",
        "    x = x + self.sa(self.l1(x)) # residual block\n",
        "    # x = self.l1(x)\n",
        "    x = x + self.ffwd(self.l2(x)) # residual block\n",
        "    # x = self.l2(x)\n",
        "    return x\n"
      ],
      "metadata": {
        "id": "mASby3mby_oS"
      },
      "execution_count": 39,
      "outputs": []
    },
    {
      "cell_type": "code",
      "source": [
        "torch.manual_seed(1033)\n",
        "\n",
        "class BigramLanguageModel(nn.Module):\n",
        "  def __init__(self):\n",
        "    super(BigramLanguageModel, self).__init__()\n",
        "    self.token_embedding_table = nn.Embedding(vocab_size, n_embed)\n",
        "    self.position_embedding_table = nn.Embedding(block_size, n_embed)\n",
        "    self.blocks = nn.Sequential(*[Block(n_embed, n_head=n_head) for _ in range(n_layer)])\n",
        "    self.ln_f = nn.LayerNorm(n_embed) # final layer norm\n",
        "    self.lm_head = nn.Linear(n_embed, vocab_size)\n",
        "\n",
        "  def forward(self, idx, target=None):\n",
        "    B, T = idx.shape\n",
        "\n",
        "    # idx and targets are both (B,T) tensors of integer\n",
        "    token_embed = self.token_embedding_table(idx) # (B,T,C) where C is n_embed\n",
        "    pos_embed = self.position_embedding_table(torch.arange(T, device=device)) # (T,C)\n",
        "    X = token_embed + pos_embed # (B, T, C)\n",
        "    X = self.blocks(X) #(B, T, C)\n",
        "    X = self.ln_f(X) #(B,T,C)\n",
        "    logits = self.lm_head(X) # (B, T, Vocab_size)\n",
        "\n",
        "    if target is not None:\n",
        "      B, T, C = logits.shape\n",
        "      logits = logits.view(B*T, C)\n",
        "      target = target.view(B*T) # or target.view(-1)\n",
        "      loss = F.cross_entropy(logits, target)\n",
        "\n",
        "    else:\n",
        "      loss = None\n",
        "\n",
        "    return logits, loss\n",
        "\n",
        "  def generate(self, idx, max_new_char):\n",
        "    #idx is (B, T) array of indices in current context\n",
        "    for _ in range(max_new_char):\n",
        "      # print(idx.shape)\n",
        "      # print(idx)\n",
        "      # crop idx to the last block_size tokens\n",
        "      idx_cond = idx[:, -block_size:]\n",
        "      # print(idx_cond)\n",
        "      # get the predictions\n",
        "      logits, loss = self(idx_cond)\n",
        "      # Focus only on last time step\n",
        "      logits = logits[:, -1, :] # becomes [B, C]\n",
        "      # apply softmax to get probabilities\n",
        "      probs = F.softmax(logits, dim=-1) # (B,C)\n",
        "      # sample from distribution\n",
        "      idx_next = torch.multinomial(probs, num_samples=1) #(B, 1)\n",
        "      # append sampled index to running index\n",
        "      idx = torch.cat((idx, idx_next), dim=1) # (b , T+1)\n",
        "\n",
        "    return idx\n",
        "\n",
        "model = BigramLanguageModel()\n",
        "m = model.to(device)\n",
        "# logits, loss = m(xb, yb)\n",
        "# print(logits.shape)\n",
        "# print(loss)\n",
        "# start_token = torch.zeros((1,1), dtype=torch.long)\n",
        "# print(decode(m.generate(start_token, 100)[0].tolist()))"
      ],
      "metadata": {
        "id": "dCBWT27Ve-ne"
      },
      "execution_count": 40,
      "outputs": []
    },
    {
      "cell_type": "code",
      "source": [
        "# create Optimizer\n",
        "optimizer = torch.optim.Adam(m.parameters(), lr = lr_rate)"
      ],
      "metadata": {
        "id": "GfcK2gMlhpKB"
      },
      "execution_count": 41,
      "outputs": []
    },
    {
      "cell_type": "code",
      "source": [
        "@torch.no_grad()\n",
        "def estimate_loss():\n",
        "  out = {}\n",
        "  m.eval()\n",
        "  for split in ['train', 'val']:\n",
        "    losses = torch.zeros(eval_iters, device=device)\n",
        "    for k in range(eval_iters):\n",
        "      xb, yb = get_batch(split)\n",
        "      logits, loss = m(xb, yb)\n",
        "      losses[k] = loss.item()\n",
        "    out[split] = losses.mean()\n",
        "  m.train()\n",
        "  return out"
      ],
      "metadata": {
        "id": "xZAU4HsLG2qk"
      },
      "execution_count": 42,
      "outputs": []
    },
    {
      "cell_type": "code",
      "source": [
        "for steps in range(max_iters):\n",
        "\n",
        "  if steps % eval_interval == 0:\n",
        "    losses = estimate_loss()\n",
        "    print(f\"step {steps}: train loss {losses['train']:.4f}, val loss {losses['val']:.4f}\")\n",
        "\n",
        "  xb, yb = get_batch('train')\n",
        "  logits, loss = m(xb, yb)\n",
        "  optimizer.zero_grad(set_to_none=True)\n",
        "  loss.backward()\n",
        "  optimizer.step()\n",
        "\n",
        "print(loss.item())"
      ],
      "metadata": {
        "colab": {
          "base_uri": "https://localhost:8080/"
        },
        "id": "2_stjVIvswLJ",
        "outputId": "9dec1c2f-73f4-42d6-e3c4-d4fdaa9a43cd"
      },
      "execution_count": 43,
      "outputs": [
        {
          "output_type": "stream",
          "name": "stdout",
          "text": [
            "step 0: train loss 4.3600, val loss 4.3610\n",
            "step 500: train loss 2.0167, val loss 2.1013\n",
            "step 1000: train loss 1.6072, val loss 1.7750\n",
            "step 1500: train loss 1.4429, val loss 1.6453\n",
            "step 2000: train loss 1.3496, val loss 1.5708\n",
            "step 2500: train loss 1.2813, val loss 1.5358\n",
            "step 3000: train loss 1.2313, val loss 1.5054\n",
            "step 3500: train loss 1.1906, val loss 1.5010\n",
            "step 4000: train loss 1.1506, val loss 1.4911\n",
            "step 4500: train loss 1.1153, val loss 1.4790\n",
            "1.2000312805175781\n"
          ]
        }
      ]
    },
    {
      "cell_type": "code",
      "source": [
        "start_token = torch.zeros((1,1), dtype=torch.long, device=device)\n",
        "print(decode(m.generate(start_token, 500)[0].tolist()))"
      ],
      "metadata": {
        "colab": {
          "base_uri": "https://localhost:8080/"
        },
        "id": "BoMlsmthvfuV",
        "outputId": "656aff5f-be91-47b1-9264-afed2aae9214"
      },
      "execution_count": 44,
      "outputs": [
        {
          "output_type": "stream",
          "name": "stdout",
          "text": [
            "\n",
            "Of Clording-lawys and soldiers at this?\n",
            "Off and hope, piece, rood, Your wounds it, the deable,\n",
            "pale live, no white York requested how:\n",
            "Lo, believe-venom, who could I cannot make\n",
            "Your friendly exulcure by his plotteness mast\n",
            "I' the degre and night, am I to go,\n",
            "To Barry Bona, forbear, a toice impound,\n",
            "It will I mother in some back orior to beams.\n",
            "\n",
            "VIRGILIA:\n",
            "Dorank not have either, tare in his country.\n",
            "I can make it well.\n",
            "\n",
            "LARTIUS:\n",
            "I have passed on my brother's bare\n",
            "Is cruel things; but come, to wa\n"
          ]
        }
      ]
    },
    {
      "cell_type": "code",
      "source": [],
      "metadata": {
        "id": "NtCxdNYlv7te"
      },
      "execution_count": 16,
      "outputs": []
    }
  ]
}